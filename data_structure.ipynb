{
 "cells": [
  {
   "cell_type": "code",
   "execution_count": 2,
   "metadata": {},
   "outputs": [],
   "source": [
    "import os\n",
    "import pandas as pd"
   ]
  },
  {
   "cell_type": "code",
   "execution_count": 3,
   "metadata": {},
   "outputs": [
    {
     "ename": "FileNotFoundError",
     "evalue": "[Errno 2] No such file or directory: '/home/qianq/mycodes/ceval/logs/chatglm_2023-08-29_12-06-38/clinical_medicine_test.csv'",
     "output_type": "error",
     "traceback": [
      "\u001b[0;31m---------------------------------------------------------------------------\u001b[0m",
      "\u001b[0;31mFileNotFoundError\u001b[0m                         Traceback (most recent call last)",
      "Cell \u001b[0;32mIn[3], line 1\u001b[0m\n\u001b[0;32m----> 1\u001b[0m df \u001b[39m=\u001b[39m pd\u001b[39m.\u001b[39;49mread_csv(\u001b[39m\"\u001b[39;49m\u001b[39m/home/qianq/mycodes/ceval/logs/chatglm_2023-08-29_12-06-38/clinical_medicine_test.csv\u001b[39;49m\u001b[39m\"\u001b[39;49m)\n",
      "File \u001b[0;32m~/mycodes/ceval/venv/lib/python3.10/site-packages/pandas/io/parsers/readers.py:912\u001b[0m, in \u001b[0;36mread_csv\u001b[0;34m(filepath_or_buffer, sep, delimiter, header, names, index_col, usecols, dtype, engine, converters, true_values, false_values, skipinitialspace, skiprows, skipfooter, nrows, na_values, keep_default_na, na_filter, verbose, skip_blank_lines, parse_dates, infer_datetime_format, keep_date_col, date_parser, date_format, dayfirst, cache_dates, iterator, chunksize, compression, thousands, decimal, lineterminator, quotechar, quoting, doublequote, escapechar, comment, encoding, encoding_errors, dialect, on_bad_lines, delim_whitespace, low_memory, memory_map, float_precision, storage_options, dtype_backend)\u001b[0m\n\u001b[1;32m    899\u001b[0m kwds_defaults \u001b[39m=\u001b[39m _refine_defaults_read(\n\u001b[1;32m    900\u001b[0m     dialect,\n\u001b[1;32m    901\u001b[0m     delimiter,\n\u001b[0;32m   (...)\u001b[0m\n\u001b[1;32m    908\u001b[0m     dtype_backend\u001b[39m=\u001b[39mdtype_backend,\n\u001b[1;32m    909\u001b[0m )\n\u001b[1;32m    910\u001b[0m kwds\u001b[39m.\u001b[39mupdate(kwds_defaults)\n\u001b[0;32m--> 912\u001b[0m \u001b[39mreturn\u001b[39;00m _read(filepath_or_buffer, kwds)\n",
      "File \u001b[0;32m~/mycodes/ceval/venv/lib/python3.10/site-packages/pandas/io/parsers/readers.py:577\u001b[0m, in \u001b[0;36m_read\u001b[0;34m(filepath_or_buffer, kwds)\u001b[0m\n\u001b[1;32m    574\u001b[0m _validate_names(kwds\u001b[39m.\u001b[39mget(\u001b[39m\"\u001b[39m\u001b[39mnames\u001b[39m\u001b[39m\"\u001b[39m, \u001b[39mNone\u001b[39;00m))\n\u001b[1;32m    576\u001b[0m \u001b[39m# Create the parser.\u001b[39;00m\n\u001b[0;32m--> 577\u001b[0m parser \u001b[39m=\u001b[39m TextFileReader(filepath_or_buffer, \u001b[39m*\u001b[39;49m\u001b[39m*\u001b[39;49mkwds)\n\u001b[1;32m    579\u001b[0m \u001b[39mif\u001b[39;00m chunksize \u001b[39mor\u001b[39;00m iterator:\n\u001b[1;32m    580\u001b[0m     \u001b[39mreturn\u001b[39;00m parser\n",
      "File \u001b[0;32m~/mycodes/ceval/venv/lib/python3.10/site-packages/pandas/io/parsers/readers.py:1407\u001b[0m, in \u001b[0;36mTextFileReader.__init__\u001b[0;34m(self, f, engine, **kwds)\u001b[0m\n\u001b[1;32m   1404\u001b[0m     \u001b[39mself\u001b[39m\u001b[39m.\u001b[39moptions[\u001b[39m\"\u001b[39m\u001b[39mhas_index_names\u001b[39m\u001b[39m\"\u001b[39m] \u001b[39m=\u001b[39m kwds[\u001b[39m\"\u001b[39m\u001b[39mhas_index_names\u001b[39m\u001b[39m\"\u001b[39m]\n\u001b[1;32m   1406\u001b[0m \u001b[39mself\u001b[39m\u001b[39m.\u001b[39mhandles: IOHandles \u001b[39m|\u001b[39m \u001b[39mNone\u001b[39;00m \u001b[39m=\u001b[39m \u001b[39mNone\u001b[39;00m\n\u001b[0;32m-> 1407\u001b[0m \u001b[39mself\u001b[39m\u001b[39m.\u001b[39m_engine \u001b[39m=\u001b[39m \u001b[39mself\u001b[39;49m\u001b[39m.\u001b[39;49m_make_engine(f, \u001b[39mself\u001b[39;49m\u001b[39m.\u001b[39;49mengine)\n",
      "File \u001b[0;32m~/mycodes/ceval/venv/lib/python3.10/site-packages/pandas/io/parsers/readers.py:1661\u001b[0m, in \u001b[0;36mTextFileReader._make_engine\u001b[0;34m(self, f, engine)\u001b[0m\n\u001b[1;32m   1659\u001b[0m     \u001b[39mif\u001b[39;00m \u001b[39m\"\u001b[39m\u001b[39mb\u001b[39m\u001b[39m\"\u001b[39m \u001b[39mnot\u001b[39;00m \u001b[39min\u001b[39;00m mode:\n\u001b[1;32m   1660\u001b[0m         mode \u001b[39m+\u001b[39m\u001b[39m=\u001b[39m \u001b[39m\"\u001b[39m\u001b[39mb\u001b[39m\u001b[39m\"\u001b[39m\n\u001b[0;32m-> 1661\u001b[0m \u001b[39mself\u001b[39m\u001b[39m.\u001b[39mhandles \u001b[39m=\u001b[39m get_handle(\n\u001b[1;32m   1662\u001b[0m     f,\n\u001b[1;32m   1663\u001b[0m     mode,\n\u001b[1;32m   1664\u001b[0m     encoding\u001b[39m=\u001b[39;49m\u001b[39mself\u001b[39;49m\u001b[39m.\u001b[39;49moptions\u001b[39m.\u001b[39;49mget(\u001b[39m\"\u001b[39;49m\u001b[39mencoding\u001b[39;49m\u001b[39m\"\u001b[39;49m, \u001b[39mNone\u001b[39;49;00m),\n\u001b[1;32m   1665\u001b[0m     compression\u001b[39m=\u001b[39;49m\u001b[39mself\u001b[39;49m\u001b[39m.\u001b[39;49moptions\u001b[39m.\u001b[39;49mget(\u001b[39m\"\u001b[39;49m\u001b[39mcompression\u001b[39;49m\u001b[39m\"\u001b[39;49m, \u001b[39mNone\u001b[39;49;00m),\n\u001b[1;32m   1666\u001b[0m     memory_map\u001b[39m=\u001b[39;49m\u001b[39mself\u001b[39;49m\u001b[39m.\u001b[39;49moptions\u001b[39m.\u001b[39;49mget(\u001b[39m\"\u001b[39;49m\u001b[39mmemory_map\u001b[39;49m\u001b[39m\"\u001b[39;49m, \u001b[39mFalse\u001b[39;49;00m),\n\u001b[1;32m   1667\u001b[0m     is_text\u001b[39m=\u001b[39;49mis_text,\n\u001b[1;32m   1668\u001b[0m     errors\u001b[39m=\u001b[39;49m\u001b[39mself\u001b[39;49m\u001b[39m.\u001b[39;49moptions\u001b[39m.\u001b[39;49mget(\u001b[39m\"\u001b[39;49m\u001b[39mencoding_errors\u001b[39;49m\u001b[39m\"\u001b[39;49m, \u001b[39m\"\u001b[39;49m\u001b[39mstrict\u001b[39;49m\u001b[39m\"\u001b[39;49m),\n\u001b[1;32m   1669\u001b[0m     storage_options\u001b[39m=\u001b[39;49m\u001b[39mself\u001b[39;49m\u001b[39m.\u001b[39;49moptions\u001b[39m.\u001b[39;49mget(\u001b[39m\"\u001b[39;49m\u001b[39mstorage_options\u001b[39;49m\u001b[39m\"\u001b[39;49m, \u001b[39mNone\u001b[39;49;00m),\n\u001b[1;32m   1670\u001b[0m )\n\u001b[1;32m   1671\u001b[0m \u001b[39massert\u001b[39;00m \u001b[39mself\u001b[39m\u001b[39m.\u001b[39mhandles \u001b[39mis\u001b[39;00m \u001b[39mnot\u001b[39;00m \u001b[39mNone\u001b[39;00m\n\u001b[1;32m   1672\u001b[0m f \u001b[39m=\u001b[39m \u001b[39mself\u001b[39m\u001b[39m.\u001b[39mhandles\u001b[39m.\u001b[39mhandle\n",
      "File \u001b[0;32m~/mycodes/ceval/venv/lib/python3.10/site-packages/pandas/io/common.py:859\u001b[0m, in \u001b[0;36mget_handle\u001b[0;34m(path_or_buf, mode, encoding, compression, memory_map, is_text, errors, storage_options)\u001b[0m\n\u001b[1;32m    854\u001b[0m \u001b[39melif\u001b[39;00m \u001b[39misinstance\u001b[39m(handle, \u001b[39mstr\u001b[39m):\n\u001b[1;32m    855\u001b[0m     \u001b[39m# Check whether the filename is to be opened in binary mode.\u001b[39;00m\n\u001b[1;32m    856\u001b[0m     \u001b[39m# Binary mode does not support 'encoding' and 'newline'.\u001b[39;00m\n\u001b[1;32m    857\u001b[0m     \u001b[39mif\u001b[39;00m ioargs\u001b[39m.\u001b[39mencoding \u001b[39mand\u001b[39;00m \u001b[39m\"\u001b[39m\u001b[39mb\u001b[39m\u001b[39m\"\u001b[39m \u001b[39mnot\u001b[39;00m \u001b[39min\u001b[39;00m ioargs\u001b[39m.\u001b[39mmode:\n\u001b[1;32m    858\u001b[0m         \u001b[39m# Encoding\u001b[39;00m\n\u001b[0;32m--> 859\u001b[0m         handle \u001b[39m=\u001b[39m \u001b[39mopen\u001b[39;49m(\n\u001b[1;32m    860\u001b[0m             handle,\n\u001b[1;32m    861\u001b[0m             ioargs\u001b[39m.\u001b[39;49mmode,\n\u001b[1;32m    862\u001b[0m             encoding\u001b[39m=\u001b[39;49mioargs\u001b[39m.\u001b[39;49mencoding,\n\u001b[1;32m    863\u001b[0m             errors\u001b[39m=\u001b[39;49merrors,\n\u001b[1;32m    864\u001b[0m             newline\u001b[39m=\u001b[39;49m\u001b[39m\"\u001b[39;49m\u001b[39m\"\u001b[39;49m,\n\u001b[1;32m    865\u001b[0m         )\n\u001b[1;32m    866\u001b[0m     \u001b[39melse\u001b[39;00m:\n\u001b[1;32m    867\u001b[0m         \u001b[39m# Binary mode\u001b[39;00m\n\u001b[1;32m    868\u001b[0m         handle \u001b[39m=\u001b[39m \u001b[39mopen\u001b[39m(handle, ioargs\u001b[39m.\u001b[39mmode)\n",
      "\u001b[0;31mFileNotFoundError\u001b[0m: [Errno 2] No such file or directory: '/home/qianq/mycodes/ceval/logs/chatglm_2023-08-29_12-06-38/clinical_medicine_test.csv'"
     ]
    }
   ],
   "source": [
    "df = pd.read_csv(\"/home/qianq/mycodes/ceval/logs/chatglm_2023-08-29_12-06-38/clinical_medicine_test.csv\")"
   ]
  },
  {
   "cell_type": "code",
   "execution_count": null,
   "metadata": {},
   "outputs": [
    {
     "data": {
      "text/html": [
       "<div>\n",
       "<style scoped>\n",
       "    .dataframe tbody tr th:only-of-type {\n",
       "        vertical-align: middle;\n",
       "    }\n",
       "\n",
       "    .dataframe tbody tr th {\n",
       "        vertical-align: top;\n",
       "    }\n",
       "\n",
       "    .dataframe thead th {\n",
       "        text-align: right;\n",
       "    }\n",
       "</style>\n",
       "<table border=\"1\" class=\"dataframe\">\n",
       "  <thead>\n",
       "    <tr style=\"text-align: right;\">\n",
       "      <th></th>\n",
       "      <th>Unnamed: 0</th>\n",
       "      <th>id</th>\n",
       "      <th>question</th>\n",
       "      <th>A</th>\n",
       "      <th>B</th>\n",
       "      <th>C</th>\n",
       "      <th>D</th>\n",
       "      <th>answer</th>\n",
       "      <th>model_output</th>\n",
       "      <th>correctness</th>\n",
       "    </tr>\n",
       "  </thead>\n",
       "  <tbody>\n",
       "    <tr>\n",
       "      <th>0</th>\n",
       "      <td>0</td>\n",
       "      <td>0</td>\n",
       "      <td>附睾精液囊肿____</td>\n",
       "      <td>精子自附睾管溢出至周围组织形成的囊肿</td>\n",
       "      <td>睾丸网或输出小管扩张形成囊肿，囊肿液中可见精子或精子碎片</td>\n",
       "      <td>囊肿为质硬的圆形包块</td>\n",
       "      <td>囊肿与周围组织界限不清</td>\n",
       "      <td>B</td>\n",
       "      <td>B</td>\n",
       "      <td>1</td>\n",
       "    </tr>\n",
       "    <tr>\n",
       "      <th>1</th>\n",
       "      <td>1</td>\n",
       "      <td>1</td>\n",
       "      <td>有关非ST段抬高心肌梗死的治疗方案，以下哪项正确____</td>\n",
       "      <td>溶栓是基础治疗</td>\n",
       "      <td>低危险组不必使用药物</td>\n",
       "      <td>中危险组以阿司匹林和肝素尤其是低分子量肝素治疗为主</td>\n",
       "      <td>高危险组以介入治疗为首选</td>\n",
       "      <td>D</td>\n",
       "      <td>C</td>\n",
       "      <td>0</td>\n",
       "    </tr>\n",
       "    <tr>\n",
       "      <th>2</th>\n",
       "      <td>2</td>\n",
       "      <td>2</td>\n",
       "      <td>慢性胃溃疡最常见的并发症是____</td>\n",
       "      <td>幽门狭窄</td>\n",
       "      <td>穿孔</td>\n",
       "      <td>出血</td>\n",
       "      <td>癌变</td>\n",
       "      <td>C</td>\n",
       "      <td>A</td>\n",
       "      <td>0</td>\n",
       "    </tr>\n",
       "    <tr>\n",
       "      <th>3</th>\n",
       "      <td>3</td>\n",
       "      <td>3</td>\n",
       "      <td>男性，65岁。昏迷10小时。血气分析：$pH$ 7．26，$PaCO_2$82mmHg，$P...</td>\n",
       "      <td>机械通气</td>\n",
       "      <td>呼吸兴奋剂</td>\n",
       "      <td>支持疗法</td>\n",
       "      <td>高浓度给氧</td>\n",
       "      <td>D</td>\n",
       "      <td>A</td>\n",
       "      <td>0</td>\n",
       "    </tr>\n",
       "    <tr>\n",
       "      <th>4</th>\n",
       "      <td>4</td>\n",
       "      <td>4</td>\n",
       "      <td>与肝癌发病无关的因素是____</td>\n",
       "      <td>甲型肝炎</td>\n",
       "      <td>乙型肝炎</td>\n",
       "      <td>酒精性肝硬化</td>\n",
       "      <td>坏死后性肝硬化</td>\n",
       "      <td>A</td>\n",
       "      <td>D</td>\n",
       "      <td>0</td>\n",
       "    </tr>\n",
       "  </tbody>\n",
       "</table>\n",
       "</div>"
      ],
      "text/plain": [
       "   Unnamed: 0  id                                           question  \\\n",
       "0           0   0                                         附睾精液囊肿____   \n",
       "1           1   1                       有关非ST段抬高心肌梗死的治疗方案，以下哪项正确____   \n",
       "2           2   2                                  慢性胃溃疡最常见的并发症是____   \n",
       "3           3   3  男性，65岁。昏迷10小时。血气分析：$pH$ 7．26，$PaCO_2$82mmHg，$P...   \n",
       "4           4   4                                    与肝癌发病无关的因素是____   \n",
       "\n",
       "                    A                             B  \\\n",
       "0  精子自附睾管溢出至周围组织形成的囊肿  睾丸网或输出小管扩张形成囊肿，囊肿液中可见精子或精子碎片   \n",
       "1             溶栓是基础治疗                    低危险组不必使用药物   \n",
       "2                幽门狭窄                            穿孔   \n",
       "3                机械通气                         呼吸兴奋剂   \n",
       "4                甲型肝炎                          乙型肝炎   \n",
       "\n",
       "                           C             D answer model_output  correctness  \n",
       "0                 囊肿为质硬的圆形包块   囊肿与周围组织界限不清      B            B            1  \n",
       "1  中危险组以阿司匹林和肝素尤其是低分子量肝素治疗为主  高危险组以介入治疗为首选      D            C            0  \n",
       "2                         出血            癌变      C            A            0  \n",
       "3                       支持疗法         高浓度给氧      D            A            0  \n",
       "4                     酒精性肝硬化       坏死后性肝硬化      A            D            0  "
      ]
     },
     "execution_count": 3,
     "metadata": {},
     "output_type": "execute_result"
    }
   ],
   "source": [
    "df.head()"
   ]
  },
  {
   "cell_type": "code",
   "execution_count": null,
   "metadata": {},
   "outputs": [
    {
     "name": "stdout",
     "output_type": "stream",
     "text": [
      "['accountant', 'advanced_mathematics', 'art_studies', 'basic_medicine', 'business_administration']\n"
     ]
    }
   ],
   "source": [
    "val_file_list = os.listdir('/home/qianq/mycodes/ceval/data/val')\n",
    "subject_list = []\n",
    "for val_file in val_file_list:\n",
    "    subject_list.append(val_file.replace('_val.csv', ''))\n",
    "print(subject_list[:5])"
   ]
  },
  {
   "cell_type": "code",
   "execution_count": null,
   "metadata": {},
   "outputs": [
    {
     "data": {
      "text/plain": [
       "['accountant',\n",
       " 'advanced_mathematics',\n",
       " 'art_studies',\n",
       " 'basic_medicine',\n",
       " 'business_administration',\n",
       " 'chinese_language_and_literature',\n",
       " 'civil_servant',\n",
       " 'clinical_medicine',\n",
       " 'college_chemistry',\n",
       " 'college_economics',\n",
       " 'college_physics',\n",
       " 'college_programming',\n",
       " 'computer_architecture',\n",
       " 'computer_network',\n",
       " 'discrete_mathematics',\n",
       " 'education_science',\n",
       " 'electrical_engineer',\n",
       " 'environmental_impact_assessment_engineer',\n",
       " 'fire_engineer',\n",
       " 'high_school_biology',\n",
       " 'high_school_chemistry',\n",
       " 'high_school_chinese',\n",
       " 'high_school_geography',\n",
       " 'high_school_history',\n",
       " 'high_school_mathematics',\n",
       " 'high_school_physics',\n",
       " 'high_school_politics',\n",
       " 'ideological_and_moral_cultivation',\n",
       " 'law',\n",
       " 'legal_professional',\n",
       " 'logic',\n",
       " 'mao_zedong_thought',\n",
       " 'marxism',\n",
       " 'metrology_engineer',\n",
       " 'middle_school_biology',\n",
       " 'middle_school_chemistry',\n",
       " 'middle_school_geography',\n",
       " 'middle_school_history',\n",
       " 'middle_school_mathematics',\n",
       " 'middle_school_physics',\n",
       " 'middle_school_politics',\n",
       " 'modern_chinese_history',\n",
       " 'operating_system',\n",
       " 'physician',\n",
       " 'plant_protection',\n",
       " 'probability_and_statistics',\n",
       " 'professional_tour_guide',\n",
       " 'sports_science',\n",
       " 'tax_accountant',\n",
       " 'teacher_qualification',\n",
       " 'urban_and_rural_planner',\n",
       " 'veterinary_medicine']"
      ]
     },
     "execution_count": 12,
     "metadata": {},
     "output_type": "execute_result"
    }
   ],
   "source": [
    "subject_list"
   ]
  },
  {
   "cell_type": "code",
   "execution_count": 4,
   "metadata": {},
   "outputs": [],
   "source": [
    "dev_file_path=os.path.join('data/dev',f'veterinary_medicine_dev.csv')\n",
    "dev_df=pd.read_csv(dev_file_path)"
   ]
  },
  {
   "cell_type": "code",
   "execution_count": 8,
   "metadata": {},
   "outputs": [
    {
     "data": {
      "text/html": [
       "<div>\n",
       "<style scoped>\n",
       "    .dataframe tbody tr th:only-of-type {\n",
       "        vertical-align: middle;\n",
       "    }\n",
       "\n",
       "    .dataframe tbody tr th {\n",
       "        vertical-align: top;\n",
       "    }\n",
       "\n",
       "    .dataframe thead th {\n",
       "        text-align: right;\n",
       "    }\n",
       "</style>\n",
       "<table border=\"1\" class=\"dataframe\">\n",
       "  <thead>\n",
       "    <tr style=\"text-align: right;\">\n",
       "      <th></th>\n",
       "      <th>id</th>\n",
       "      <th>question</th>\n",
       "      <th>A</th>\n",
       "      <th>B</th>\n",
       "      <th>C</th>\n",
       "      <th>D</th>\n",
       "      <th>answer</th>\n",
       "      <th>explanation</th>\n",
       "    </tr>\n",
       "  </thead>\n",
       "  <tbody>\n",
       "    <tr>\n",
       "      <th>0</th>\n",
       "      <td>0</td>\n",
       "      <td>某酶有4种底物(S)，其$Km$ 值如下，该酶的最适底物为____。</td>\n",
       "      <td>$S_1: K_m =5×10^{-5} mol／L$</td>\n",
       "      <td>$S_2: K_m =1×10^{-5} mol／L$</td>\n",
       "      <td>$S_3: K_m =10×10^{-5} mol／L$</td>\n",
       "      <td>$S_4: K_m =0.1×10^{-5} mol／L$</td>\n",
       "      <td>D</td>\n",
       "      <td>1. $K_m$值是酶对底物的亲和力的度量，表示当底物浓度为$K_m$时，酶活性达到最大值的...</td>\n",
       "    </tr>\n",
       "    <tr>\n",
       "      <th>1</th>\n",
       "      <td>1</td>\n",
       "      <td>要把膜蛋白脂完整地从膜上溶解下来，可以用____。</td>\n",
       "      <td>蛋白水解酶</td>\n",
       "      <td>透明质酸酶</td>\n",
       "      <td>去垢剂</td>\n",
       "      <td>糖苷水解酶</td>\n",
       "      <td>C</td>\n",
       "      <td>1. 首先，我们需要知道如何将膜蛋白脂从膜上溶解下来。膜蛋白脂是由蛋白质和脂质组成的复合物，...</td>\n",
       "    </tr>\n",
       "    <tr>\n",
       "      <th>2</th>\n",
       "      <td>2</td>\n",
       "      <td>不连续聚丙烯酰胺凝胶电泳比一般电泳的分辨率高，是因为具有____。</td>\n",
       "      <td>浓缩效应</td>\n",
       "      <td>电荷效应</td>\n",
       "      <td>分子筛效应</td>\n",
       "      <td>黏度效应</td>\n",
       "      <td>A</td>\n",
       "      <td>1. 浓缩效应是指由于凝胶孔径等的不连续性，样本物质被浓缩为一个狭窄的中间层，是不连续聚丙烯...</td>\n",
       "    </tr>\n",
       "  </tbody>\n",
       "</table>\n",
       "</div>"
      ],
      "text/plain": [
       "   id                            question                            A  \\\n",
       "0   0  某酶有4种底物(S)，其$Km$ 值如下，该酶的最适底物为____。  $S_1: K_m =5×10^{-5} mol／L$   \n",
       "1   1           要把膜蛋白脂完整地从膜上溶解下来，可以用____。                        蛋白水解酶   \n",
       "2   2   不连续聚丙烯酰胺凝胶电泳比一般电泳的分辨率高，是因为具有____。                         浓缩效应   \n",
       "\n",
       "                             B                             C  \\\n",
       "0  $S_2: K_m =1×10^{-5} mol／L$  $S_3: K_m =10×10^{-5} mol／L$   \n",
       "1                        透明质酸酶                           去垢剂   \n",
       "2                         电荷效应                         分子筛效应   \n",
       "\n",
       "                               D answer  \\\n",
       "0  $S_4: K_m =0.1×10^{-5} mol／L$      D   \n",
       "1                          糖苷水解酶      C   \n",
       "2                           黏度效应      A   \n",
       "\n",
       "                                         explanation  \n",
       "0  1. $K_m$值是酶对底物的亲和力的度量，表示当底物浓度为$K_m$时，酶活性达到最大值的...  \n",
       "1  1. 首先，我们需要知道如何将膜蛋白脂从膜上溶解下来。膜蛋白脂是由蛋白质和脂质组成的复合物，...  \n",
       "2  1. 浓缩效应是指由于凝胶孔径等的不连续性，样本物质被浓缩为一个狭窄的中间层，是不连续聚丙烯...  "
      ]
     },
     "execution_count": 8,
     "metadata": {},
     "output_type": "execute_result"
    }
   ],
   "source": [
    "dev_df = dev_df[:3]\n",
    "dev_df"
   ]
  },
  {
   "cell_type": "code",
   "execution_count": 9,
   "metadata": {},
   "outputs": [
    {
     "data": {
      "text/plain": [
       "3"
      ]
     },
     "execution_count": 9,
     "metadata": {},
     "output_type": "execute_result"
    }
   ],
   "source": [
    "dev_df.shape[0]"
   ]
  }
 ],
 "metadata": {
  "kernelspec": {
   "display_name": "venv",
   "language": "python",
   "name": "python3"
  },
  "language_info": {
   "codemirror_mode": {
    "name": "ipython",
    "version": 3
   },
   "file_extension": ".py",
   "mimetype": "text/x-python",
   "name": "python",
   "nbconvert_exporter": "python",
   "pygments_lexer": "ipython3",
   "version": "3.10.6"
  },
  "orig_nbformat": 4
 },
 "nbformat": 4,
 "nbformat_minor": 2
}
